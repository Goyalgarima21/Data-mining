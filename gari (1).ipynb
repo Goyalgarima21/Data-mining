{
 "cells": [
  {
   "cell_type": "code",
   "execution_count": 1,
   "id": "a228a9a8",
   "metadata": {
    "id": "a228a9a8"
   },
   "outputs": [],
   "source": [
    "# Import necessary libraries\n",
    "import pandas as pd\n",
    "import numpy as np"
   ]
  },
  {
   "cell_type": "code",
   "execution_count": 2,
   "id": "rNNeuj1AnHrF",
   "metadata": {
    "id": "rNNeuj1AnHrF"
   },
   "outputs": [],
   "source": [
    "\n",
    "df=pd.read_csv(\"DOHMH_New_York_City_Restaurant_Inspection_Results.csv\")"
   ]
  },
  {
   "cell_type": "code",
   "execution_count": 3,
   "id": "dhmX7cZ6nqoh",
   "metadata": {
    "colab": {
     "base_uri": "https://localhost:8080/",
     "height": 386
    },
    "id": "dhmX7cZ6nqoh",
    "outputId": "c0eba01f-620e-4ab6-d73e-6c57490e9c41"
   },
   "outputs": [
    {
     "data": {
      "text/html": [
       "<div>\n",
       "<style scoped>\n",
       "    .dataframe tbody tr th:only-of-type {\n",
       "        vertical-align: middle;\n",
       "    }\n",
       "\n",
       "    .dataframe tbody tr th {\n",
       "        vertical-align: top;\n",
       "    }\n",
       "\n",
       "    .dataframe thead th {\n",
       "        text-align: right;\n",
       "    }\n",
       "</style>\n",
       "<table border=\"1\" class=\"dataframe\">\n",
       "  <thead>\n",
       "    <tr style=\"text-align: right;\">\n",
       "      <th></th>\n",
       "      <th>CAMIS</th>\n",
       "      <th>DBA</th>\n",
       "      <th>BORO</th>\n",
       "      <th>BUILDING</th>\n",
       "      <th>STREET</th>\n",
       "      <th>ZIPCODE</th>\n",
       "      <th>PHONE</th>\n",
       "      <th>CUISINE DESCRIPTION</th>\n",
       "      <th>INSPECTION DATE</th>\n",
       "      <th>ACTION</th>\n",
       "      <th>...</th>\n",
       "      <th>INSPECTION TYPE</th>\n",
       "      <th>Latitude</th>\n",
       "      <th>Longitude</th>\n",
       "      <th>Community Board</th>\n",
       "      <th>Council District</th>\n",
       "      <th>Census Tract</th>\n",
       "      <th>BIN</th>\n",
       "      <th>BBL</th>\n",
       "      <th>NTA</th>\n",
       "      <th>Location Point1</th>\n",
       "    </tr>\n",
       "  </thead>\n",
       "  <tbody>\n",
       "    <tr>\n",
       "      <th>0</th>\n",
       "      <td>50134858</td>\n",
       "      <td>IPIZZANY</td>\n",
       "      <td>Manhattan</td>\n",
       "      <td>3801</td>\n",
       "      <td>BROADWAY</td>\n",
       "      <td>10032.0</td>\n",
       "      <td>6463441533</td>\n",
       "      <td>NaN</td>\n",
       "      <td>01/01/1900</td>\n",
       "      <td>NaN</td>\n",
       "      <td>...</td>\n",
       "      <td>NaN</td>\n",
       "      <td>40.834774</td>\n",
       "      <td>-73.944366</td>\n",
       "      <td>112.0</td>\n",
       "      <td>7.0</td>\n",
       "      <td>24700.0</td>\n",
       "      <td>1063301.0</td>\n",
       "      <td>1.021360e+09</td>\n",
       "      <td>MN36</td>\n",
       "      <td>NaN</td>\n",
       "    </tr>\n",
       "    <tr>\n",
       "      <th>1</th>\n",
       "      <td>50131923</td>\n",
       "      <td>NaN</td>\n",
       "      <td>Brooklyn</td>\n",
       "      <td>445</td>\n",
       "      <td>ALBEE SQUARE</td>\n",
       "      <td>11201.0</td>\n",
       "      <td>9175493308</td>\n",
       "      <td>NaN</td>\n",
       "      <td>01/01/1900</td>\n",
       "      <td>NaN</td>\n",
       "      <td>...</td>\n",
       "      <td>NaN</td>\n",
       "      <td>40.690826</td>\n",
       "      <td>-73.983452</td>\n",
       "      <td>302.0</td>\n",
       "      <td>33.0</td>\n",
       "      <td>1500.0</td>\n",
       "      <td>3397861.0</td>\n",
       "      <td>3.001498e+09</td>\n",
       "      <td>BK38</td>\n",
       "      <td>NaN</td>\n",
       "    </tr>\n",
       "    <tr>\n",
       "      <th>2</th>\n",
       "      <td>50134227</td>\n",
       "      <td>NaN</td>\n",
       "      <td>Manhattan</td>\n",
       "      <td>34</td>\n",
       "      <td>WEST   32 STREET</td>\n",
       "      <td>10001.0</td>\n",
       "      <td>6149378003</td>\n",
       "      <td>NaN</td>\n",
       "      <td>01/01/1900</td>\n",
       "      <td>NaN</td>\n",
       "      <td>...</td>\n",
       "      <td>NaN</td>\n",
       "      <td>40.747819</td>\n",
       "      <td>-73.987101</td>\n",
       "      <td>105.0</td>\n",
       "      <td>4.0</td>\n",
       "      <td>7600.0</td>\n",
       "      <td>1015832.0</td>\n",
       "      <td>1.008330e+09</td>\n",
       "      <td>MN17</td>\n",
       "      <td>NaN</td>\n",
       "    </tr>\n",
       "    <tr>\n",
       "      <th>3</th>\n",
       "      <td>50130429</td>\n",
       "      <td>NaN</td>\n",
       "      <td>Staten Island</td>\n",
       "      <td>418</td>\n",
       "      <td>FOREST AVENUE</td>\n",
       "      <td>10301.0</td>\n",
       "      <td>6467788883</td>\n",
       "      <td>NaN</td>\n",
       "      <td>01/01/1900</td>\n",
       "      <td>NaN</td>\n",
       "      <td>...</td>\n",
       "      <td>NaN</td>\n",
       "      <td>40.630829</td>\n",
       "      <td>-74.103347</td>\n",
       "      <td>501.0</td>\n",
       "      <td>49.0</td>\n",
       "      <td>5900.0</td>\n",
       "      <td>5006981.0</td>\n",
       "      <td>5.002530e+09</td>\n",
       "      <td>SI35</td>\n",
       "      <td>NaN</td>\n",
       "    </tr>\n",
       "    <tr>\n",
       "      <th>4</th>\n",
       "      <td>50123241</td>\n",
       "      <td>NaN</td>\n",
       "      <td>Queens</td>\n",
       "      <td>136-20</td>\n",
       "      <td>ROOSEVELT AVENUE</td>\n",
       "      <td>11354.0</td>\n",
       "      <td>3479232008</td>\n",
       "      <td>NaN</td>\n",
       "      <td>01/01/1900</td>\n",
       "      <td>NaN</td>\n",
       "      <td>...</td>\n",
       "      <td>NaN</td>\n",
       "      <td>40.759778</td>\n",
       "      <td>-73.829235</td>\n",
       "      <td>407.0</td>\n",
       "      <td>20.0</td>\n",
       "      <td>85300.0</td>\n",
       "      <td>4113546.0</td>\n",
       "      <td>4.050190e+09</td>\n",
       "      <td>QN22</td>\n",
       "      <td>NaN</td>\n",
       "    </tr>\n",
       "  </tbody>\n",
       "</table>\n",
       "<p>5 rows × 27 columns</p>\n",
       "</div>"
      ],
      "text/plain": [
       "      CAMIS       DBA           BORO BUILDING            STREET  ZIPCODE  \\\n",
       "0  50134858  IPIZZANY      Manhattan     3801          BROADWAY  10032.0   \n",
       "1  50131923       NaN       Brooklyn      445      ALBEE SQUARE  11201.0   \n",
       "2  50134227       NaN      Manhattan       34  WEST   32 STREET  10001.0   \n",
       "3  50130429       NaN  Staten Island      418     FOREST AVENUE  10301.0   \n",
       "4  50123241       NaN         Queens   136-20  ROOSEVELT AVENUE  11354.0   \n",
       "\n",
       "        PHONE CUISINE DESCRIPTION INSPECTION DATE ACTION  ... INSPECTION TYPE  \\\n",
       "0  6463441533                 NaN      01/01/1900    NaN  ...             NaN   \n",
       "1  9175493308                 NaN      01/01/1900    NaN  ...             NaN   \n",
       "2  6149378003                 NaN      01/01/1900    NaN  ...             NaN   \n",
       "3  6467788883                 NaN      01/01/1900    NaN  ...             NaN   \n",
       "4  3479232008                 NaN      01/01/1900    NaN  ...             NaN   \n",
       "\n",
       "    Latitude  Longitude  Community Board Council District Census Tract  \\\n",
       "0  40.834774 -73.944366            112.0              7.0      24700.0   \n",
       "1  40.690826 -73.983452            302.0             33.0       1500.0   \n",
       "2  40.747819 -73.987101            105.0              4.0       7600.0   \n",
       "3  40.630829 -74.103347            501.0             49.0       5900.0   \n",
       "4  40.759778 -73.829235            407.0             20.0      85300.0   \n",
       "\n",
       "         BIN           BBL   NTA  Location Point1  \n",
       "0  1063301.0  1.021360e+09  MN36              NaN  \n",
       "1  3397861.0  3.001498e+09  BK38              NaN  \n",
       "2  1015832.0  1.008330e+09  MN17              NaN  \n",
       "3  5006981.0  5.002530e+09  SI35              NaN  \n",
       "4  4113546.0  4.050190e+09  QN22              NaN  \n",
       "\n",
       "[5 rows x 27 columns]"
      ]
     },
     "execution_count": 3,
     "metadata": {},
     "output_type": "execute_result"
    }
   ],
   "source": [
    "#Preview the data and check if it was loaded correctly.\n",
    "df.head()"
   ]
  },
  {
   "cell_type": "code",
   "execution_count": 4,
   "id": "-ZYiAiFPnxmp",
   "metadata": {
    "colab": {
     "base_uri": "https://localhost:8080/"
    },
    "id": "-ZYiAiFPnxmp",
    "outputId": "a7aa3520-67c3-453d-b9b8-d67cec9b8f67"
   },
   "outputs": [
    {
     "data": {
      "text/plain": [
       "<bound method DataFrame.info of            CAMIS                         DBA           BORO BUILDING  \\\n",
       "0       50134858                    IPIZZANY      Manhattan     3801   \n",
       "1       50131923                         NaN       Brooklyn      445   \n",
       "2       50134227                         NaN      Manhattan       34   \n",
       "3       50130429                         NaN  Staten Island      418   \n",
       "4       50123241                         NaN         Queens   136-20   \n",
       "...          ...                         ...            ...      ...   \n",
       "204861  50107111                   CHIP CITY         Queens     4505   \n",
       "204862  50071004                      SPOONS       Brooklyn     5001   \n",
       "204863  50071419           MIN JIANG MEI SHI       Brooklyn     5820   \n",
       "204864  50055392  BRAVO AFRICAN RESTAURANT 2          Bronx     3744   \n",
       "204865  50109809           EL SHADDAI EATERY       Brooklyn     1010   \n",
       "\n",
       "                   STREET  ZIPCODE       PHONE       CUISINE DESCRIPTION  \\\n",
       "0                BROADWAY  10032.0  6463441533                       NaN   \n",
       "1            ALBEE SQUARE  11201.0  9175493308                       NaN   \n",
       "2        WEST   32 STREET  10001.0  6149378003                       NaN   \n",
       "3           FOREST AVENUE  10301.0  6467788883                       NaN   \n",
       "4        ROOSEVELT AVENUE  11354.0  3479232008                       NaN   \n",
       "...                   ...      ...         ...                       ...   \n",
       "204861            40TH ST  11104.0  3478134775  Bakery Products/Desserts   \n",
       "204862           13TH AVE  11219.0  7186335555             Jewish/Kosher   \n",
       "204863           7 AVENUE  11220.0  7185673577                   Chinese   \n",
       "204864  WHITE PLAINS ROAD  10467.0  3474650822                   African   \n",
       "204865    CLARKSON AVENUE  11212.0  9292109275                 Caribbean   \n",
       "\n",
       "       INSPECTION DATE                                           ACTION  ...  \\\n",
       "0           01/01/1900                                              NaN  ...   \n",
       "1           01/01/1900                                              NaN  ...   \n",
       "2           01/01/1900                                              NaN  ...   \n",
       "3           01/01/1900                                              NaN  ...   \n",
       "4           01/01/1900                                              NaN  ...   \n",
       "...                ...                                              ...  ...   \n",
       "204861      07/26/2021  Violations were cited in the following area(s).  ...   \n",
       "204862      07/15/2022  Violations were cited in the following area(s).  ...   \n",
       "204863      11/25/2019  Violations were cited in the following area(s).  ...   \n",
       "204864      09/15/2022  Violations were cited in the following area(s).  ...   \n",
       "204865      04/08/2022  Violations were cited in the following area(s).  ...   \n",
       "\n",
       "                                          INSPECTION TYPE   Latitude  \\\n",
       "0                                                     NaN  40.834774   \n",
       "1                                                     NaN  40.690826   \n",
       "2                                                     NaN  40.747819   \n",
       "3                                                     NaN  40.630829   \n",
       "4                                                     NaN  40.759778   \n",
       "...                                                   ...        ...   \n",
       "204861      Pre-permit (Operational) / Initial Inspection  40.743307   \n",
       "204862              Cycle Inspection / Initial Inspection  40.634370   \n",
       "204863              Cycle Inspection / Initial Inspection  40.637798   \n",
       "204864              Cycle Inspection / Initial Inspection  40.882689   \n",
       "204865  Administrative Miscellaneous / Initial Inspection  40.658326   \n",
       "\n",
       "        Longitude  Community Board Council District Census Tract        BIN  \\\n",
       "0      -73.944366            112.0              7.0      24700.0  1063301.0   \n",
       "1      -73.983452            302.0             33.0       1500.0  3397861.0   \n",
       "2      -73.987101            105.0              4.0       7600.0  1015832.0   \n",
       "3      -74.103347            501.0             49.0       5900.0  5006981.0   \n",
       "4      -73.829235            407.0             20.0      85300.0  4113546.0   \n",
       "...           ...              ...              ...          ...        ...   \n",
       "204861 -73.924345            402.0             26.0      18101.0  4002571.0   \n",
       "204862 -73.992780            312.0             44.0      23600.0  3138066.0   \n",
       "204863 -74.010752            307.0             38.0      10200.0  3016149.0   \n",
       "204864 -73.863282            212.0             12.0      39000.0  2058007.0   \n",
       "204865 -73.924395            317.0             41.0      88200.0  3101076.0   \n",
       "\n",
       "                 BBL   NTA  Location Point1  \n",
       "0       1.021360e+09  MN36              NaN  \n",
       "1       3.001498e+09  BK38              NaN  \n",
       "2       1.008330e+09  MN17              NaN  \n",
       "3       5.002530e+09  SI35              NaN  \n",
       "4       4.050190e+09  QN22              NaN  \n",
       "...              ...   ...              ...  \n",
       "204861  4.001930e+09  QN31              NaN  \n",
       "204862  3.056490e+09  BK88              NaN  \n",
       "204863  3.008570e+09  BK34              NaN  \n",
       "204864  2.046650e+09  BX44              NaN  \n",
       "204865  3.046460e+09  BK96              NaN  \n",
       "\n",
       "[204866 rows x 27 columns]>"
      ]
     },
     "execution_count": 4,
     "metadata": {},
     "output_type": "execute_result"
    }
   ],
   "source": [
    "#Check the information about the dataframe\n",
    "df.info"
   ]
  },
  {
   "cell_type": "code",
   "execution_count": 5,
   "id": "rHGuIfoUnxg7",
   "metadata": {
    "colab": {
     "base_uri": "https://localhost:8080/"
    },
    "id": "rHGuIfoUnxg7",
    "outputId": "2c1c040c-8dc4-4289-d1ba-640400f577fe"
   },
   "outputs": [
    {
     "data": {
      "text/plain": [
       "(204866, 27)"
      ]
     },
     "execution_count": 5,
     "metadata": {},
     "output_type": "execute_result"
    }
   ],
   "source": [
    "#Check number of rows and columns in the dataframe\n",
    "df.shape"
   ]
  },
  {
   "cell_type": "code",
   "execution_count": 6,
   "id": "OvbnqAJhovLR",
   "metadata": {
    "colab": {
     "base_uri": "https://localhost:8080/"
    },
    "id": "OvbnqAJhovLR",
    "outputId": "88d12e2a-d21b-49d9-dc17-125ce6168070"
   },
   "outputs": [
    {
     "data": {
      "text/plain": [
       "204866"
      ]
     },
     "execution_count": 6,
     "metadata": {},
     "output_type": "execute_result"
    }
   ],
   "source": [
    "len(df.index)"
   ]
  },
  {
   "cell_type": "markdown",
   "id": "z2ygB8Yto61n",
   "metadata": {
    "id": "z2ygB8Yto61n"
   },
   "source": [
    "I have analyzed that the dataset has a large number of rows and columns. To achieve the best results, let's narrow down the dataset to only include the year \"2021\" (just after the end of the COVID pandemic) and analyze how many restaurant violations are still critical in New York."
   ]
  },
  {
   "cell_type": "code",
   "execution_count": 7,
   "id": "gHezBNx5o13h",
   "metadata": {
    "id": "gHezBNx5o13h"
   },
   "outputs": [],
   "source": [
    "df['INSPECTION DATE'] = pd.to_datetime(df['INSPECTION DATE'])\n",
    "\n",
    "# Filter the dataframe to keep only records for 2021\n",
    "df2 = df[df['INSPECTION DATE'].dt.year == 2021].copy()"
   ]
  },
  {
   "cell_type": "code",
   "execution_count": 8,
   "id": "5GjGuo5dqncC",
   "metadata": {
    "colab": {
     "base_uri": "https://localhost:8080/",
     "height": 1000
    },
    "id": "5GjGuo5dqncC",
    "outputId": "1efe5029-387c-43b2-a7aa-4c9b00784e35"
   },
   "outputs": [
    {
     "data": {
      "text/html": [
       "<div>\n",
       "<style scoped>\n",
       "    .dataframe tbody tr th:only-of-type {\n",
       "        vertical-align: middle;\n",
       "    }\n",
       "\n",
       "    .dataframe tbody tr th {\n",
       "        vertical-align: top;\n",
       "    }\n",
       "\n",
       "    .dataframe thead th {\n",
       "        text-align: right;\n",
       "    }\n",
       "</style>\n",
       "<table border=\"1\" class=\"dataframe\">\n",
       "  <thead>\n",
       "    <tr style=\"text-align: right;\">\n",
       "      <th></th>\n",
       "      <th>CAMIS</th>\n",
       "      <th>DBA</th>\n",
       "      <th>BORO</th>\n",
       "      <th>BUILDING</th>\n",
       "      <th>STREET</th>\n",
       "      <th>ZIPCODE</th>\n",
       "      <th>PHONE</th>\n",
       "      <th>CUISINE DESCRIPTION</th>\n",
       "      <th>INSPECTION DATE</th>\n",
       "      <th>ACTION</th>\n",
       "      <th>...</th>\n",
       "      <th>INSPECTION TYPE</th>\n",
       "      <th>Latitude</th>\n",
       "      <th>Longitude</th>\n",
       "      <th>Community Board</th>\n",
       "      <th>Council District</th>\n",
       "      <th>Census Tract</th>\n",
       "      <th>BIN</th>\n",
       "      <th>BBL</th>\n",
       "      <th>NTA</th>\n",
       "      <th>Location Point1</th>\n",
       "    </tr>\n",
       "  </thead>\n",
       "  <tbody>\n",
       "    <tr>\n",
       "      <th>66</th>\n",
       "      <td>40931583</td>\n",
       "      <td>CONNECTICUT MUFFIN</td>\n",
       "      <td>Brooklyn</td>\n",
       "      <td>423</td>\n",
       "      <td>MYRTLE AVENUE</td>\n",
       "      <td>11205.0</td>\n",
       "      <td>7189350087</td>\n",
       "      <td>Coffee/Tea</td>\n",
       "      <td>2021-08-19</td>\n",
       "      <td>Establishment re-opened by DOHMH.</td>\n",
       "      <td>...</td>\n",
       "      <td>Cycle Inspection / Reopening Inspection</td>\n",
       "      <td>40.693137</td>\n",
       "      <td>-73.968667</td>\n",
       "      <td>302.0</td>\n",
       "      <td>35.0</td>\n",
       "      <td>19100.0</td>\n",
       "      <td>3054300.0</td>\n",
       "      <td>3.018880e+09</td>\n",
       "      <td>BK69</td>\n",
       "      <td>NaN</td>\n",
       "    </tr>\n",
       "    <tr>\n",
       "      <th>85</th>\n",
       "      <td>50089838</td>\n",
       "      <td>CAFE DE COLOMBIA BAKERY</td>\n",
       "      <td>Queens</td>\n",
       "      <td>8303</td>\n",
       "      <td>37TH AVE</td>\n",
       "      <td>11372.0</td>\n",
       "      <td>7182163623</td>\n",
       "      <td>Bakery Products/Desserts</td>\n",
       "      <td>2021-08-18</td>\n",
       "      <td>Violations were cited in the following area(s).</td>\n",
       "      <td>...</td>\n",
       "      <td>Cycle Inspection / Initial Inspection</td>\n",
       "      <td>40.749863</td>\n",
       "      <td>-73.883229</td>\n",
       "      <td>403.0</td>\n",
       "      <td>25.0</td>\n",
       "      <td>28100.0</td>\n",
       "      <td>4035828.0</td>\n",
       "      <td>4.014570e+09</td>\n",
       "      <td>QN28</td>\n",
       "      <td>NaN</td>\n",
       "    </tr>\n",
       "    <tr>\n",
       "      <th>180</th>\n",
       "      <td>50070762</td>\n",
       "      <td>DONNA'S DUTCH POT</td>\n",
       "      <td>Brooklyn</td>\n",
       "      <td>1073</td>\n",
       "      <td>LIBERTY AVENUE</td>\n",
       "      <td>11208.0</td>\n",
       "      <td>3474067388</td>\n",
       "      <td>Caribbean</td>\n",
       "      <td>2021-11-18</td>\n",
       "      <td>Violations were cited in the following area(s).</td>\n",
       "      <td>...</td>\n",
       "      <td>Cycle Inspection / Initial Inspection</td>\n",
       "      <td>40.678339</td>\n",
       "      <td>-73.869600</td>\n",
       "      <td>305.0</td>\n",
       "      <td>37.0</td>\n",
       "      <td>119000.0</td>\n",
       "      <td>3093582.0</td>\n",
       "      <td>3.041710e+09</td>\n",
       "      <td>BK83</td>\n",
       "      <td>NaN</td>\n",
       "    </tr>\n",
       "    <tr>\n",
       "      <th>204</th>\n",
       "      <td>40553581</td>\n",
       "      <td>BOSTON MARKET</td>\n",
       "      <td>Bronx</td>\n",
       "      <td>337185</td>\n",
       "      <td>EAST TREMONT AVENUE</td>\n",
       "      <td>NaN</td>\n",
       "      <td>7188240440</td>\n",
       "      <td>Chicken</td>\n",
       "      <td>2021-08-04</td>\n",
       "      <td>Violations were cited in the following area(s).</td>\n",
       "      <td>...</td>\n",
       "      <td>Cycle Inspection / Initial Inspection</td>\n",
       "      <td>0.000000</td>\n",
       "      <td>0.000000</td>\n",
       "      <td>NaN</td>\n",
       "      <td>NaN</td>\n",
       "      <td>NaN</td>\n",
       "      <td>NaN</td>\n",
       "      <td>2.000000e+00</td>\n",
       "      <td>NaN</td>\n",
       "      <td>NaN</td>\n",
       "    </tr>\n",
       "    <tr>\n",
       "      <th>236</th>\n",
       "      <td>40391498</td>\n",
       "      <td>PEKING RESTAURANT</td>\n",
       "      <td>Queens</td>\n",
       "      <td>5811</td>\n",
       "      <td>WOODSIDE AVENUE</td>\n",
       "      <td>11377.0</td>\n",
       "      <td>7186721414</td>\n",
       "      <td>Chinese</td>\n",
       "      <td>2021-07-19</td>\n",
       "      <td>Violations were cited in the following area(s).</td>\n",
       "      <td>...</td>\n",
       "      <td>Cycle Inspection / Initial Inspection</td>\n",
       "      <td>40.745597</td>\n",
       "      <td>-73.906287</td>\n",
       "      <td>402.0</td>\n",
       "      <td>26.0</td>\n",
       "      <td>25900.0</td>\n",
       "      <td>4028290.0</td>\n",
       "      <td>4.012290e+09</td>\n",
       "      <td>QN63</td>\n",
       "      <td>NaN</td>\n",
       "    </tr>\n",
       "    <tr>\n",
       "      <th>...</th>\n",
       "      <td>...</td>\n",
       "      <td>...</td>\n",
       "      <td>...</td>\n",
       "      <td>...</td>\n",
       "      <td>...</td>\n",
       "      <td>...</td>\n",
       "      <td>...</td>\n",
       "      <td>...</td>\n",
       "      <td>...</td>\n",
       "      <td>...</td>\n",
       "      <td>...</td>\n",
       "      <td>...</td>\n",
       "      <td>...</td>\n",
       "      <td>...</td>\n",
       "      <td>...</td>\n",
       "      <td>...</td>\n",
       "      <td>...</td>\n",
       "      <td>...</td>\n",
       "      <td>...</td>\n",
       "      <td>...</td>\n",
       "      <td>...</td>\n",
       "    </tr>\n",
       "    <tr>\n",
       "      <th>204835</th>\n",
       "      <td>41513756</td>\n",
       "      <td>GREAT WALL RESTAURANT</td>\n",
       "      <td>Bronx</td>\n",
       "      <td>1179</td>\n",
       "      <td>PUGSLEY AVENUE</td>\n",
       "      <td>10472.0</td>\n",
       "      <td>7188920256</td>\n",
       "      <td>Chinese</td>\n",
       "      <td>2021-09-01</td>\n",
       "      <td>Violations were cited in the following area(s).</td>\n",
       "      <td>...</td>\n",
       "      <td>Cycle Inspection / Initial Inspection</td>\n",
       "      <td>40.830721</td>\n",
       "      <td>-73.857080</td>\n",
       "      <td>209.0</td>\n",
       "      <td>18.0</td>\n",
       "      <td>7200.0</td>\n",
       "      <td>2025817.0</td>\n",
       "      <td>2.037920e+09</td>\n",
       "      <td>BX55</td>\n",
       "      <td>NaN</td>\n",
       "    </tr>\n",
       "    <tr>\n",
       "      <th>204842</th>\n",
       "      <td>40423705</td>\n",
       "      <td>ZARO'S BAKERY</td>\n",
       "      <td>Manhattan</td>\n",
       "      <td>89</td>\n",
       "      <td>EAST   42 STREET</td>\n",
       "      <td>10017.0</td>\n",
       "      <td>2123767619</td>\n",
       "      <td>American</td>\n",
       "      <td>2021-07-23</td>\n",
       "      <td>Violations were cited in the following area(s).</td>\n",
       "      <td>...</td>\n",
       "      <td>Cycle Inspection / Initial Inspection</td>\n",
       "      <td>40.752094</td>\n",
       "      <td>-73.977604</td>\n",
       "      <td>105.0</td>\n",
       "      <td>4.0</td>\n",
       "      <td>9200.0</td>\n",
       "      <td>1035381.0</td>\n",
       "      <td>1.012800e+09</td>\n",
       "      <td>MN19</td>\n",
       "      <td>NaN</td>\n",
       "    </tr>\n",
       "    <tr>\n",
       "      <th>204846</th>\n",
       "      <td>41559805</td>\n",
       "      <td>DUNKIN</td>\n",
       "      <td>Brooklyn</td>\n",
       "      <td>640</td>\n",
       "      <td>SOUTH CONDUIT BOULEVARD</td>\n",
       "      <td>11208.0</td>\n",
       "      <td>3478733086</td>\n",
       "      <td>Donuts</td>\n",
       "      <td>2021-08-25</td>\n",
       "      <td>Violations were cited in the following area(s).</td>\n",
       "      <td>...</td>\n",
       "      <td>Cycle Inspection / Initial Inspection</td>\n",
       "      <td>40.675675</td>\n",
       "      <td>-73.866069</td>\n",
       "      <td>305.0</td>\n",
       "      <td>42.0</td>\n",
       "      <td>120000.0</td>\n",
       "      <td>3095219.0</td>\n",
       "      <td>3.042390e+09</td>\n",
       "      <td>BK82</td>\n",
       "      <td>NaN</td>\n",
       "    </tr>\n",
       "    <tr>\n",
       "      <th>204856</th>\n",
       "      <td>50105348</td>\n",
       "      <td>NEW UP UP RESTAURANT</td>\n",
       "      <td>Brooklyn</td>\n",
       "      <td>5623</td>\n",
       "      <td>8 AVENUE</td>\n",
       "      <td>11220.0</td>\n",
       "      <td>9173096992</td>\n",
       "      <td>Chinese</td>\n",
       "      <td>2021-10-14</td>\n",
       "      <td>Violations were cited in the following area(s).</td>\n",
       "      <td>...</td>\n",
       "      <td>Pre-permit (Operational) / Initial Inspection</td>\n",
       "      <td>40.637570</td>\n",
       "      <td>-74.007375</td>\n",
       "      <td>312.0</td>\n",
       "      <td>38.0</td>\n",
       "      <td>10400.0</td>\n",
       "      <td>3139839.0</td>\n",
       "      <td>3.056860e+09</td>\n",
       "      <td>BK34</td>\n",
       "      <td>NaN</td>\n",
       "    </tr>\n",
       "    <tr>\n",
       "      <th>204861</th>\n",
       "      <td>50107111</td>\n",
       "      <td>CHIP CITY</td>\n",
       "      <td>Queens</td>\n",
       "      <td>4505</td>\n",
       "      <td>40TH ST</td>\n",
       "      <td>11104.0</td>\n",
       "      <td>3478134775</td>\n",
       "      <td>Bakery Products/Desserts</td>\n",
       "      <td>2021-07-26</td>\n",
       "      <td>Violations were cited in the following area(s).</td>\n",
       "      <td>...</td>\n",
       "      <td>Pre-permit (Operational) / Initial Inspection</td>\n",
       "      <td>40.743307</td>\n",
       "      <td>-73.924345</td>\n",
       "      <td>402.0</td>\n",
       "      <td>26.0</td>\n",
       "      <td>18101.0</td>\n",
       "      <td>4002571.0</td>\n",
       "      <td>4.001930e+09</td>\n",
       "      <td>QN31</td>\n",
       "      <td>NaN</td>\n",
       "    </tr>\n",
       "  </tbody>\n",
       "</table>\n",
       "<p>21714 rows × 27 columns</p>\n",
       "</div>"
      ],
      "text/plain": [
       "           CAMIS                      DBA       BORO BUILDING  \\\n",
       "66      40931583       CONNECTICUT MUFFIN   Brooklyn      423   \n",
       "85      50089838  CAFE DE COLOMBIA BAKERY     Queens     8303   \n",
       "180     50070762        DONNA'S DUTCH POT   Brooklyn     1073   \n",
       "204     40553581            BOSTON MARKET      Bronx   337185   \n",
       "236     40391498        PEKING RESTAURANT     Queens     5811   \n",
       "...          ...                      ...        ...      ...   \n",
       "204835  41513756    GREAT WALL RESTAURANT      Bronx     1179   \n",
       "204842  40423705            ZARO'S BAKERY  Manhattan       89   \n",
       "204846  41559805                   DUNKIN   Brooklyn      640   \n",
       "204856  50105348     NEW UP UP RESTAURANT   Brooklyn     5623   \n",
       "204861  50107111                CHIP CITY     Queens     4505   \n",
       "\n",
       "                         STREET  ZIPCODE       PHONE  \\\n",
       "66                MYRTLE AVENUE  11205.0  7189350087   \n",
       "85                     37TH AVE  11372.0  7182163623   \n",
       "180              LIBERTY AVENUE  11208.0  3474067388   \n",
       "204         EAST TREMONT AVENUE      NaN  7188240440   \n",
       "236             WOODSIDE AVENUE  11377.0  7186721414   \n",
       "...                         ...      ...         ...   \n",
       "204835           PUGSLEY AVENUE  10472.0  7188920256   \n",
       "204842         EAST   42 STREET  10017.0  2123767619   \n",
       "204846  SOUTH CONDUIT BOULEVARD  11208.0  3478733086   \n",
       "204856                 8 AVENUE  11220.0  9173096992   \n",
       "204861                  40TH ST  11104.0  3478134775   \n",
       "\n",
       "             CUISINE DESCRIPTION INSPECTION DATE  \\\n",
       "66                    Coffee/Tea      2021-08-19   \n",
       "85      Bakery Products/Desserts      2021-08-18   \n",
       "180                    Caribbean      2021-11-18   \n",
       "204                      Chicken      2021-08-04   \n",
       "236                      Chinese      2021-07-19   \n",
       "...                          ...             ...   \n",
       "204835                   Chinese      2021-09-01   \n",
       "204842                  American      2021-07-23   \n",
       "204846                    Donuts      2021-08-25   \n",
       "204856                   Chinese      2021-10-14   \n",
       "204861  Bakery Products/Desserts      2021-07-26   \n",
       "\n",
       "                                                 ACTION  ...  \\\n",
       "66                    Establishment re-opened by DOHMH.  ...   \n",
       "85      Violations were cited in the following area(s).  ...   \n",
       "180     Violations were cited in the following area(s).  ...   \n",
       "204     Violations were cited in the following area(s).  ...   \n",
       "236     Violations were cited in the following area(s).  ...   \n",
       "...                                                 ...  ...   \n",
       "204835  Violations were cited in the following area(s).  ...   \n",
       "204842  Violations were cited in the following area(s).  ...   \n",
       "204846  Violations were cited in the following area(s).  ...   \n",
       "204856  Violations were cited in the following area(s).  ...   \n",
       "204861  Violations were cited in the following area(s).  ...   \n",
       "\n",
       "                                      INSPECTION TYPE   Latitude  Longitude  \\\n",
       "66            Cycle Inspection / Reopening Inspection  40.693137 -73.968667   \n",
       "85              Cycle Inspection / Initial Inspection  40.749863 -73.883229   \n",
       "180             Cycle Inspection / Initial Inspection  40.678339 -73.869600   \n",
       "204             Cycle Inspection / Initial Inspection   0.000000   0.000000   \n",
       "236             Cycle Inspection / Initial Inspection  40.745597 -73.906287   \n",
       "...                                               ...        ...        ...   \n",
       "204835          Cycle Inspection / Initial Inspection  40.830721 -73.857080   \n",
       "204842          Cycle Inspection / Initial Inspection  40.752094 -73.977604   \n",
       "204846          Cycle Inspection / Initial Inspection  40.675675 -73.866069   \n",
       "204856  Pre-permit (Operational) / Initial Inspection  40.637570 -74.007375   \n",
       "204861  Pre-permit (Operational) / Initial Inspection  40.743307 -73.924345   \n",
       "\n",
       "        Community Board Council District Census Tract        BIN  \\\n",
       "66                302.0             35.0      19100.0  3054300.0   \n",
       "85                403.0             25.0      28100.0  4035828.0   \n",
       "180               305.0             37.0     119000.0  3093582.0   \n",
       "204                 NaN              NaN          NaN        NaN   \n",
       "236               402.0             26.0      25900.0  4028290.0   \n",
       "...                 ...              ...          ...        ...   \n",
       "204835            209.0             18.0       7200.0  2025817.0   \n",
       "204842            105.0              4.0       9200.0  1035381.0   \n",
       "204846            305.0             42.0     120000.0  3095219.0   \n",
       "204856            312.0             38.0      10400.0  3139839.0   \n",
       "204861            402.0             26.0      18101.0  4002571.0   \n",
       "\n",
       "                 BBL   NTA  Location Point1  \n",
       "66      3.018880e+09  BK69              NaN  \n",
       "85      4.014570e+09  QN28              NaN  \n",
       "180     3.041710e+09  BK83              NaN  \n",
       "204     2.000000e+00   NaN              NaN  \n",
       "236     4.012290e+09  QN63              NaN  \n",
       "...              ...   ...              ...  \n",
       "204835  2.037920e+09  BX55              NaN  \n",
       "204842  1.012800e+09  MN19              NaN  \n",
       "204846  3.042390e+09  BK82              NaN  \n",
       "204856  3.056860e+09  BK34              NaN  \n",
       "204861  4.001930e+09  QN31              NaN  \n",
       "\n",
       "[21714 rows x 27 columns]"
      ]
     },
     "execution_count": 8,
     "metadata": {},
     "output_type": "execute_result"
    }
   ],
   "source": [
    "df2"
   ]
  },
  {
   "cell_type": "code",
   "execution_count": 9,
   "id": "EObvyHL1iBd5",
   "metadata": {
    "id": "EObvyHL1iBd5"
   },
   "outputs": [],
   "source": [
    "\n",
    "df2.to_csv('DOHMH_New_York_City_Restaurant_Inspection_Results_2021.csv', index=False)"
   ]
  },
  {
   "cell_type": "code",
   "execution_count": 10,
   "id": "2f0V47n4-LEd",
   "metadata": {
    "id": "2f0V47n4-LEd"
   },
   "outputs": [],
   "source": [
    "\n",
    "df2 = pd.read_csv(\"DOHMH_New_York_City_Restaurant_Inspection_Results_2021.csv\")"
   ]
  },
  {
   "cell_type": "code",
   "execution_count": 11,
   "id": "9e0c79af",
   "metadata": {
    "colab": {
     "base_uri": "https://localhost:8080/"
    },
    "id": "9e0c79af",
    "outputId": "f7f11781-e573-4654-b892-074dbcb1f22a"
   },
   "outputs": [
    {
     "data": {
      "text/plain": [
       "Index(['CAMIS', 'DBA', 'BORO', 'BUILDING', 'STREET', 'ZIPCODE', 'PHONE',\n",
       "       'CUISINE DESCRIPTION', 'INSPECTION DATE', 'ACTION', 'VIOLATION CODE',\n",
       "       'VIOLATION DESCRIPTION', 'CRITICAL FLAG', 'SCORE', 'GRADE',\n",
       "       'GRADE DATE', 'RECORD DATE', 'INSPECTION TYPE', 'Latitude', 'Longitude',\n",
       "       'Community Board', 'Council District', 'Census Tract', 'BIN', 'BBL',\n",
       "       'NTA', 'Location Point1'],\n",
       "      dtype='object')"
      ]
     },
     "execution_count": 11,
     "metadata": {},
     "output_type": "execute_result"
    }
   ],
   "source": [
    "#To view the list of column labels\n",
    "df2.columns"
   ]
  },
  {
   "cell_type": "markdown",
   "id": "9mM5KLV9rvNF",
   "metadata": {
    "id": "9mM5KLV9rvNF"
   },
   "source": [
    "To predict the violation conditions, we will use the important columns \"violation description\" and \"critical flag\"."
   ]
  },
  {
   "cell_type": "code",
   "execution_count": 12,
   "id": "11e76bad",
   "metadata": {
    "colab": {
     "base_uri": "https://localhost:8080/",
     "height": 423
    },
    "id": "11e76bad",
    "outputId": "37658fd2-2544-4cb5-d1ff-4a7416db011d"
   },
   "outputs": [
    {
     "data": {
      "text/html": [
       "<div>\n",
       "<style scoped>\n",
       "    .dataframe tbody tr th:only-of-type {\n",
       "        vertical-align: middle;\n",
       "    }\n",
       "\n",
       "    .dataframe tbody tr th {\n",
       "        vertical-align: top;\n",
       "    }\n",
       "\n",
       "    .dataframe thead th {\n",
       "        text-align: right;\n",
       "    }\n",
       "</style>\n",
       "<table border=\"1\" class=\"dataframe\">\n",
       "  <thead>\n",
       "    <tr style=\"text-align: right;\">\n",
       "      <th></th>\n",
       "      <th>VIOLATION DESCRIPTION</th>\n",
       "      <th>CRITICAL FLAG</th>\n",
       "    </tr>\n",
       "  </thead>\n",
       "  <tbody>\n",
       "    <tr>\n",
       "      <th>0</th>\n",
       "      <td>NaN</td>\n",
       "      <td>Not Applicable</td>\n",
       "    </tr>\n",
       "    <tr>\n",
       "      <th>1</th>\n",
       "      <td>Hot food item not held at or above 140º F.</td>\n",
       "      <td>Critical</td>\n",
       "    </tr>\n",
       "    <tr>\n",
       "      <th>2</th>\n",
       "      <td>Hot food item not held at or above 140º F.</td>\n",
       "      <td>Critical</td>\n",
       "    </tr>\n",
       "    <tr>\n",
       "      <th>3</th>\n",
       "      <td>Food Protection Certificate not held by superv...</td>\n",
       "      <td>Critical</td>\n",
       "    </tr>\n",
       "    <tr>\n",
       "      <th>4</th>\n",
       "      <td>Thawing procedures improper.</td>\n",
       "      <td>Not Critical</td>\n",
       "    </tr>\n",
       "    <tr>\n",
       "      <th>...</th>\n",
       "      <td>...</td>\n",
       "      <td>...</td>\n",
       "    </tr>\n",
       "    <tr>\n",
       "      <th>21709</th>\n",
       "      <td>Hot food item not held at or above 140º F.</td>\n",
       "      <td>Critical</td>\n",
       "    </tr>\n",
       "    <tr>\n",
       "      <th>21710</th>\n",
       "      <td>Cold food item held above 41º F (smoked fish a...</td>\n",
       "      <td>Critical</td>\n",
       "    </tr>\n",
       "    <tr>\n",
       "      <th>21711</th>\n",
       "      <td>Filth flies or food/refuse/sewage-associated (...</td>\n",
       "      <td>Critical</td>\n",
       "    </tr>\n",
       "    <tr>\n",
       "      <th>21712</th>\n",
       "      <td>Facility not vermin proof. Harborage or condit...</td>\n",
       "      <td>Not Critical</td>\n",
       "    </tr>\n",
       "    <tr>\n",
       "      <th>21713</th>\n",
       "      <td>Plumbing not properly installed or maintained;...</td>\n",
       "      <td>Not Critical</td>\n",
       "    </tr>\n",
       "  </tbody>\n",
       "</table>\n",
       "<p>21714 rows × 2 columns</p>\n",
       "</div>"
      ],
      "text/plain": [
       "                                   VIOLATION DESCRIPTION   CRITICAL FLAG\n",
       "0                                                    NaN  Not Applicable\n",
       "1             Hot food item not held at or above 140º F.        Critical\n",
       "2             Hot food item not held at or above 140º F.        Critical\n",
       "3      Food Protection Certificate not held by superv...        Critical\n",
       "4                           Thawing procedures improper.    Not Critical\n",
       "...                                                  ...             ...\n",
       "21709         Hot food item not held at or above 140º F.        Critical\n",
       "21710  Cold food item held above 41º F (smoked fish a...        Critical\n",
       "21711  Filth flies or food/refuse/sewage-associated (...        Critical\n",
       "21712  Facility not vermin proof. Harborage or condit...    Not Critical\n",
       "21713  Plumbing not properly installed or maintained;...    Not Critical\n",
       "\n",
       "[21714 rows x 2 columns]"
      ]
     },
     "execution_count": 12,
     "metadata": {},
     "output_type": "execute_result"
    }
   ],
   "source": [
    "#Take the required column\n",
    "dfx=df2[[\"VIOLATION DESCRIPTION\",\"CRITICAL FLAG\"]]\n",
    "dfx"
   ]
  },
  {
   "cell_type": "code",
   "execution_count": 13,
   "id": "57fd09c2",
   "metadata": {
    "colab": {
     "base_uri": "https://localhost:8080/",
     "height": 423
    },
    "id": "57fd09c2",
    "outputId": "21a8374b-2195-4b2a-ea35-a3e5aaa8c825"
   },
   "outputs": [
    {
     "data": {
      "text/html": [
       "<div>\n",
       "<style scoped>\n",
       "    .dataframe tbody tr th:only-of-type {\n",
       "        vertical-align: middle;\n",
       "    }\n",
       "\n",
       "    .dataframe tbody tr th {\n",
       "        vertical-align: top;\n",
       "    }\n",
       "\n",
       "    .dataframe thead th {\n",
       "        text-align: right;\n",
       "    }\n",
       "</style>\n",
       "<table border=\"1\" class=\"dataframe\">\n",
       "  <thead>\n",
       "    <tr style=\"text-align: right;\">\n",
       "      <th></th>\n",
       "      <th>VIOLATION DESCRIPTION</th>\n",
       "      <th>CRITICAL FLAG</th>\n",
       "    </tr>\n",
       "  </thead>\n",
       "  <tbody>\n",
       "    <tr>\n",
       "      <th>1</th>\n",
       "      <td>Hot food item not held at or above 140º F.</td>\n",
       "      <td>Critical</td>\n",
       "    </tr>\n",
       "    <tr>\n",
       "      <th>2</th>\n",
       "      <td>Hot food item not held at or above 140º F.</td>\n",
       "      <td>Critical</td>\n",
       "    </tr>\n",
       "    <tr>\n",
       "      <th>3</th>\n",
       "      <td>Food Protection Certificate not held by superv...</td>\n",
       "      <td>Critical</td>\n",
       "    </tr>\n",
       "    <tr>\n",
       "      <th>4</th>\n",
       "      <td>Thawing procedures improper.</td>\n",
       "      <td>Not Critical</td>\n",
       "    </tr>\n",
       "    <tr>\n",
       "      <th>5</th>\n",
       "      <td>Hot food item not held at or above 140º F.</td>\n",
       "      <td>Critical</td>\n",
       "    </tr>\n",
       "    <tr>\n",
       "      <th>...</th>\n",
       "      <td>...</td>\n",
       "      <td>...</td>\n",
       "    </tr>\n",
       "    <tr>\n",
       "      <th>21709</th>\n",
       "      <td>Hot food item not held at or above 140º F.</td>\n",
       "      <td>Critical</td>\n",
       "    </tr>\n",
       "    <tr>\n",
       "      <th>21710</th>\n",
       "      <td>Cold food item held above 41º F (smoked fish a...</td>\n",
       "      <td>Critical</td>\n",
       "    </tr>\n",
       "    <tr>\n",
       "      <th>21711</th>\n",
       "      <td>Filth flies or food/refuse/sewage-associated (...</td>\n",
       "      <td>Critical</td>\n",
       "    </tr>\n",
       "    <tr>\n",
       "      <th>21712</th>\n",
       "      <td>Facility not vermin proof. Harborage or condit...</td>\n",
       "      <td>Not Critical</td>\n",
       "    </tr>\n",
       "    <tr>\n",
       "      <th>21713</th>\n",
       "      <td>Plumbing not properly installed or maintained;...</td>\n",
       "      <td>Not Critical</td>\n",
       "    </tr>\n",
       "  </tbody>\n",
       "</table>\n",
       "<p>21465 rows × 2 columns</p>\n",
       "</div>"
      ],
      "text/plain": [
       "                                   VIOLATION DESCRIPTION CRITICAL FLAG\n",
       "1             Hot food item not held at or above 140º F.      Critical\n",
       "2             Hot food item not held at or above 140º F.      Critical\n",
       "3      Food Protection Certificate not held by superv...      Critical\n",
       "4                           Thawing procedures improper.  Not Critical\n",
       "5             Hot food item not held at or above 140º F.      Critical\n",
       "...                                                  ...           ...\n",
       "21709         Hot food item not held at or above 140º F.      Critical\n",
       "21710  Cold food item held above 41º F (smoked fish a...      Critical\n",
       "21711  Filth flies or food/refuse/sewage-associated (...      Critical\n",
       "21712  Facility not vermin proof. Harborage or condit...  Not Critical\n",
       "21713  Plumbing not properly installed or maintained;...  Not Critical\n",
       "\n",
       "[21465 rows x 2 columns]"
      ]
     },
     "execution_count": 13,
     "metadata": {},
     "output_type": "execute_result"
    }
   ],
   "source": [
    "#Drops any rows with missing values in the VIOLATION DESCRIPTION column and  rows where the CRITICAL FLAG is not \"Not Applicable\"\n",
    "dc=dfx.dropna(subset=[\"VIOLATION DESCRIPTION\"]) \\\n",
    "         .query('`CRITICAL FLAG` != \"Not Applicable\"')\n",
    "dc"
   ]
  },
  {
   "cell_type": "markdown",
   "id": "eaYfYqHDs8I1",
   "metadata": {
    "id": "eaYfYqHDs8I1"
   },
   "source": []
  },
  {
   "cell_type": "code",
   "execution_count": 14,
   "id": "42ee40be",
   "metadata": {
    "colab": {
     "base_uri": "https://localhost:8080/"
    },
    "id": "42ee40be",
    "outputId": "1d35c168-58d2-4ece-e1a6-f7e3f1ccaa81"
   },
   "outputs": [
    {
     "data": {
      "text/plain": [
       "1               Hot food item not held at or above 140º F.\n",
       "2               Hot food item not held at or above 140º F.\n",
       "3        Food Protection Certificate not held by superv...\n",
       "4                             Thawing procedures improper.\n",
       "5               Hot food item not held at or above 140º F.\n",
       "                               ...                        \n",
       "21709           Hot food item not held at or above 140º F.\n",
       "21710    Cold food item held above 41º F (smoked fish a...\n",
       "21711    Filth flies or food/refuse/sewage-associated (...\n",
       "21712    Facility not vermin proof. Harborage or condit...\n",
       "21713    Plumbing not properly installed or maintained;...\n",
       "Name: VIOLATION DESCRIPTION, Length: 21465, dtype: object"
      ]
     },
     "execution_count": 14,
     "metadata": {},
     "output_type": "execute_result"
    }
   ],
   "source": [
    "dc[\"VIOLATION DESCRIPTION\"]"
   ]
  },
  {
   "cell_type": "markdown",
   "id": "OJLi-LU2ssTi",
   "metadata": {
    "id": "OJLi-LU2ssTi"
   },
   "source": [
    "Convert the data type of violation description to string type."
   ]
  },
  {
   "cell_type": "code",
   "execution_count": 15,
   "id": "be99b94e",
   "metadata": {
    "id": "be99b94e"
   },
   "outputs": [],
   "source": [
    "dc['VIOLATION DESCRIPTION'] = dc['VIOLATION DESCRIPTION'].astype(str)"
   ]
  },
  {
   "cell_type": "code",
   "execution_count": 16,
   "id": "77e57cc2",
   "metadata": {
    "colab": {
     "base_uri": "https://localhost:8080/"
    },
    "id": "77e57cc2",
    "outputId": "9871b4b8-a55c-4e2b-d56f-15a8228fc468"
   },
   "outputs": [
    {
     "data": {
      "text/plain": [
       "1               Hot food item not held at or above 140º F.\n",
       "2               Hot food item not held at or above 140º F.\n",
       "3        Food Protection Certificate not held by superv...\n",
       "4                             Thawing procedures improper.\n",
       "5               Hot food item not held at or above 140º F.\n",
       "                               ...                        \n",
       "21709           Hot food item not held at or above 140º F.\n",
       "21710    Cold food item held above 41º F (smoked fish a...\n",
       "21711    Filth flies or food/refuse/sewage-associated (...\n",
       "21712    Facility not vermin proof. Harborage or condit...\n",
       "21713    Plumbing not properly installed or maintained;...\n",
       "Name: VIOLATION DESCRIPTION, Length: 21465, dtype: object"
      ]
     },
     "execution_count": 16,
     "metadata": {},
     "output_type": "execute_result"
    }
   ],
   "source": [
    "dc[\"VIOLATION DESCRIPTION\"]"
   ]
  },
  {
   "cell_type": "code",
   "execution_count": 17,
   "id": "8fadaf0e",
   "metadata": {
    "id": "8fadaf0e"
   },
   "outputs": [],
   "source": [
    "## Removing the punctuations if an missed by above process\n",
    "def remove_punc(string):\n",
    "    punc = '''!()-[]{};:'\"\\,<>./?@#$%^&*_~º'''\n",
    "    for i in string:\n",
    "        if i in punc:\n",
    "            string = string.replace(i,\"\")\n",
    "    return string\n",
    "dc['VIOLATION DESCRIPTION'] = dc['VIOLATION DESCRIPTION'].apply(remove_punc) "
   ]
  },
  {
   "cell_type": "markdown",
   "id": "oEF1a_zAt0_r",
   "metadata": {
    "id": "oEF1a_zAt0_r"
   },
   "source": [
    "Split the data into training and testing sets using the train_test_split function from scikit-learn.\n"
   ]
  },
  {
   "cell_type": "code",
   "execution_count": 18,
   "id": "e0832780",
   "metadata": {
    "id": "e0832780"
   },
   "outputs": [],
   "source": [
    "from sklearn.model_selection import train_test_split"
   ]
  },
  {
   "cell_type": "code",
   "execution_count": 19,
   "id": "5af70bed",
   "metadata": {
    "colab": {
     "base_uri": "https://localhost:8080/"
    },
    "id": "5af70bed",
    "outputId": "d7ed7bb9-a431-4e58-cf2e-79f0ce82e8d6"
   },
   "outputs": [
    {
     "data": {
      "text/plain": [
       "1                 Hot food item not held at or above 140 F\n",
       "2                 Hot food item not held at or above 140 F\n",
       "3        Food Protection Certificate not held by superv...\n",
       "4                              Thawing procedures improper\n",
       "5                 Hot food item not held at or above 140 F\n",
       "                               ...                        \n",
       "21709             Hot food item not held at or above 140 F\n",
       "21710    Cold food item held above 41 F smoked fish and...\n",
       "21711    Filth flies or foodrefusesewageassociated FRSA...\n",
       "21712    Facility not vermin proof Harborage or conditi...\n",
       "21713    Plumbing not properly installed or maintained ...\n",
       "Name: VIOLATION DESCRIPTION, Length: 21465, dtype: object"
      ]
     },
     "execution_count": 19,
     "metadata": {},
     "output_type": "execute_result"
    }
   ],
   "source": [
    "X=dc[\"VIOLATION DESCRIPTION\"]\n",
    "X"
   ]
  },
  {
   "cell_type": "code",
   "execution_count": 20,
   "id": "e8496543",
   "metadata": {
    "id": "e8496543"
   },
   "outputs": [],
   "source": [
    "y=dc[\"CRITICAL FLAG\"]"
   ]
  },
  {
   "cell_type": "code",
   "execution_count": 21,
   "id": "e7babc28",
   "metadata": {
    "id": "e7babc28"
   },
   "outputs": [],
   "source": [
    "# Split the data into training and testing sets\n",
    "X_train, X_test, y_train, y_test = train_test_split(X, y, train_size=0.7, test_size=0.3, random_state=100)\n"
   ]
  },
  {
   "cell_type": "code",
   "execution_count": 22,
   "id": "cd2784b2",
   "metadata": {
    "colab": {
     "base_uri": "https://localhost:8080/"
    },
    "id": "cd2784b2",
    "outputId": "2a3338fe-00f0-4e33-8ac2-70e92e767d7e"
   },
   "outputs": [
    {
     "data": {
      "text/plain": [
       "(15025,)"
      ]
     },
     "execution_count": 22,
     "metadata": {},
     "output_type": "execute_result"
    }
   ],
   "source": [
    "X_train.shape"
   ]
  },
  {
   "cell_type": "code",
   "execution_count": 23,
   "id": "5457f268",
   "metadata": {
    "colab": {
     "base_uri": "https://localhost:8080/"
    },
    "id": "5457f268",
    "outputId": "b511cb53-40be-4fad-b0ce-a7cff9c36b60"
   },
   "outputs": [
    {
     "data": {
      "text/plain": [
       "(6440,)"
      ]
     },
     "execution_count": 23,
     "metadata": {},
     "output_type": "execute_result"
    }
   ],
   "source": [
    "X_test.shape"
   ]
  },
  {
   "cell_type": "code",
   "execution_count": 24,
   "id": "aa560a26",
   "metadata": {
    "colab": {
     "base_uri": "https://localhost:8080/"
    },
    "id": "aa560a26",
    "outputId": "12c37fdb-436e-44e2-c4c4-f031e1389631"
   },
   "outputs": [
    {
     "data": {
      "text/plain": [
       "dtype('O')"
      ]
     },
     "execution_count": 24,
     "metadata": {},
     "output_type": "execute_result"
    }
   ],
   "source": [
    "X_train.dtypes"
   ]
  },
  {
   "cell_type": "code",
   "execution_count": 25,
   "id": "20633b55",
   "metadata": {
    "id": "20633b55"
   },
   "outputs": [],
   "source": [
    "#Import the necessary Libaries\n",
    "from sklearn.feature_extraction.text import TfidfVectorizer"
   ]
  },
  {
   "cell_type": "markdown",
   "id": "lQbVVEL_uIII",
   "metadata": {
    "id": "lQbVVEL_uIII"
   },
   "source": [
    "\n",
    "Transforms the text data in the X_train and X_test variables into word-level TF-IDF (term frequency-inverse document frequency) features using the fit_transform() method of the TfidfVectorizer for the training data and the transform() method for the test data. Finally, it converts the sparse matrix to a dense array using the toarray() method."
   ]
  },
  {
   "cell_type": "code",
   "execution_count": 55,
   "id": "9f5509c7",
   "metadata": {
    "id": "9f5509c7"
   },
   "outputs": [],
   "source": [
    "tfidf_vectorizer = TfidfVectorizer(ngram_range=(1,1),max_features=None)\n",
    "X_train_words = tfidf_vectorizer.fit_transform(X_train).toarray()\n",
    "X_test_words = tfidf_vectorizer.transform(X_test).toarray()\n"
   ]
  },
  {
   "cell_type": "code",
   "execution_count": 27,
   "id": "577326fc",
   "metadata": {
    "colab": {
     "base_uri": "https://localhost:8080/"
    },
    "id": "577326fc",
    "outputId": "d3efb950-1590-408f-f86f-3d432c62a677"
   },
   "outputs": [
    {
     "data": {
      "text/plain": [
       "array([[0., 0., 0., ..., 0., 0., 0.],\n",
       "       [0., 0., 0., ..., 0., 0., 0.],\n",
       "       [0., 0., 0., ..., 0., 0., 0.],\n",
       "       ...,\n",
       "       [0., 0., 0., ..., 0., 0., 0.],\n",
       "       [0., 0., 0., ..., 0., 0., 0.],\n",
       "       [0., 0., 0., ..., 0., 0., 0.]])"
      ]
     },
     "execution_count": 27,
     "metadata": {},
     "output_type": "execute_result"
    }
   ],
   "source": [
    "X_train_words"
   ]
  },
  {
   "cell_type": "code",
   "execution_count": 28,
   "id": "acb93eff",
   "metadata": {
    "colab": {
     "base_uri": "https://localhost:8080/"
    },
    "id": "acb93eff",
    "outputId": "dc24affa-c8fa-48bf-b531-a8ac4fb54366"
   },
   "outputs": [
    {
     "data": {
      "text/plain": [
       "(15025, 429)"
      ]
     },
     "execution_count": 28,
     "metadata": {},
     "output_type": "execute_result"
    }
   ],
   "source": [
    "X_train_words.shape"
   ]
  },
  {
   "cell_type": "code",
   "execution_count": 29,
   "id": "0f9403e8",
   "metadata": {
    "id": "0f9403e8"
   },
   "outputs": [],
   "source": [
    "from sklearn.neighbors import KNeighborsClassifier\n",
    "import matplotlib.pyplot as plt\n",
    "from sklearn.metrics import accuracy_score\n",
    "%matplotlib inline"
   ]
  },
  {
   "cell_type": "code",
   "execution_count": 30,
   "id": "e0a900d4",
   "metadata": {
    "colab": {
     "base_uri": "https://localhost:8080/",
     "height": 466
    },
    "id": "e0a900d4",
    "outputId": "a8164bf7-78dd-4d01-aeac-d7098f4e98cb"
   },
   "outputs": [
    {
     "data": {
      "text/plain": [
       "Text(0, 0.5, 'Accuracy')"
      ]
     },
     "execution_count": 30,
     "metadata": {},
     "output_type": "execute_result"
    },
    {
     "data": {
      "image/png": "[encoded data removed]",
      "text/plain": [
       "<Figure size 432x288 with 1 Axes>"
      ]
     },
     "metadata": {
      "needs_background": "light"
     },
     "output_type": "display_data"
    }
   ],
   "source": [
    "# Hyperparameter tuning for KNN\n",
    "# Try different values of k and plot the training and test accuracy\n",
    "numNeighbors = [1, 5, 10, 15, 20, 25, 30]\n",
    "trainAcc = []\n",
    "testAcc = []\n",
    "# Loop through each value of k\n",
    "for k in numNeighbors:\n",
    "    clf = KNeighborsClassifier(n_neighbors=k, metric='minkowski', p=2)# Create KNN classifier with given hyperparameters\n",
    "    clf.fit(X_train_words, y_train)# Train the classifier\n",
    "    Y_predTrain = clf.predict(X_train_words)  # Make predictions on the training set\n",
    "    Y_predTest = clf.predict(X_test_words)  # Make predictions on the test set\n",
    "    trainAcc.append(accuracy_score(y_train, Y_predTrain))  # Calculate training accuracy and append to list\n",
    "    testAcc.append(accuracy_score(y_test, Y_predTest))  # Calculate test accuracy and append to list\n",
    "\n",
    "# Plot the training and test accuracy for each value of k\n",
    "plt.plot(numNeighbors, trainAcc, 'ro-', numNeighbors, testAcc,'bv--')\n",
    "plt.legend(['Training Accuracy','Test Accuracy'])\n",
    "plt.xlabel('Number of neighbors')\n",
    "plt.ylabel('Accuracy')"
   ]
  },
  {
   "cell_type": "code",
   "execution_count": 31,
   "id": "ns04mD4WhsQ7",
   "metadata": {
    "colab": {
     "base_uri": "https://localhost:8080/"
    },
    "id": "ns04mD4WhsQ7",
    "outputId": "471cd78e-c911-4e5b-ab69-ef84592ba8de"
   },
   "outputs": [
    {
     "name": "stdout",
     "output_type": "stream",
     "text": [
      "              precision    recall  f1-score   support\n",
      "\n",
      "    Critical       1.00      1.00      1.00      3671\n",
      "Not Critical       1.00      1.00      1.00      2769\n",
      "\n",
      "    accuracy                           1.00      6440\n",
      "   macro avg       1.00      1.00      1.00      6440\n",
      "weighted avg       1.00      1.00      1.00      6440\n",
      "\n"
     ]
    }
   ],
   "source": [
    "from sklearn.metrics import classification_report\n",
    "\n",
    "print(classification_report(y_test,Y_predTest ))"
   ]
  },
  {
   "cell_type": "code",
   "execution_count": 32,
   "id": "Sn9kLX3_jfYz",
   "metadata": {
    "colab": {
     "base_uri": "https://localhost:8080/"
    },
    "id": "Sn9kLX3_jfYz",
    "outputId": "fdfb87d8-2f62-4418-cd5e-1ef987e0bada"
   },
   "outputs": [
    {
     "data": {
      "text/plain": [
       "0.9978260869565218"
      ]
     },
     "execution_count": 32,
     "metadata": {},
     "output_type": "execute_result"
    }
   ],
   "source": [
    "accurac=(accuracy_score(y_test, Y_predTest))\n",
    "accurac"
   ]
  },
  {
   "cell_type": "code",
   "execution_count": 33,
   "id": "068f8f7f",
   "metadata": {
    "colab": {
     "base_uri": "https://localhost:8080/",
     "height": 850
    },
    "id": "068f8f7f",
    "outputId": "d7197f28-ef2a-4b2e-cbf6-40a9ce6a1ea9"
   },
   "outputs": [
    {
     "data": {
      "image/png": "[encoded data removed]",
      "text/plain": [
       "<Figure size 1080x720 with 2 Axes>"
      ]
     },
     "metadata": {
      "needs_background": "light"
     },
     "output_type": "display_data"
    }
   ],
   "source": [
    "from sklearn import metrics\n",
    "# Compute confusion matrix and display it as heatmap\n",
    "cm = metrics.confusion_matrix(y_test, Y_predTest, labels=clf.classes_)\n",
    "disp = metrics.ConfusionMatrixDisplay(confusion_matrix=cm, display_labels=clf.classes_)\n",
    "disp = disp.plot(include_values=True, cmap='viridis', ax=plt.subplots(figsize=(15, 10))[1])\n"
   ]
  },
  {
   "cell_type": "code",
   "execution_count": 34,
   "id": "9IyKok4NNpak",
   "metadata": {
    "id": "9IyKok4NNpak"
   },
   "outputs": [],
   "source": [
    "from sklearn.metrics import recall_score\n",
    "from sklearn.metrics import precision_score\n",
    "from sklearn.metrics import f1_score"
   ]
  },
  {
   "cell_type": "markdown",
   "id": "piRb0tzJPuyS",
   "metadata": {
    "id": "piRb0tzJPuyS"
   },
   "source": [
    "Recall = TP / (TP + FN)\n",
    "Precision = TP / (TP + FP)\n",
    "\n",
    "F1 = 2 * (Precision * Recall) / (Precision + Recall)"
   ]
  },
  {
   "cell_type": "code",
   "execution_count": 35,
   "id": "np7yveSeB853",
   "metadata": {
    "colab": {
     "base_uri": "https://localhost:8080/"
    },
    "id": "np7yveSeB853",
    "outputId": "3b593e6d-7db4-4c78-90ec-fc2a50613502"
   },
   "outputs": [
    {
     "name": "stdout",
     "output_type": "stream",
     "text": [
      "KNN recall score is: 0.9978269550247865\n",
      "Manually calculated KNN recall is:  0.9978207572868428 \n",
      "\n",
      "KNN precision score is: 0.9977388163177023\n",
      "Manually calculated KNN precision is:  0.9983646770237122 \n",
      "\n",
      "KNN F1-score is:  0.9977827836197484\n",
      "Manually calculated KNN f1-score is:  0.9980926430517711 \n",
      "\n"
     ]
    }
   ],
   "source": [
    "print('KNN recall score is:', metrics.recall_score(y_test, Y_predTest, average='macro'))\n",
    "recall = 3663 / (3663+8)\n",
    "print('Manually calculated KNN recall is: ', recall, '\\n')\n",
    "\n",
    "print('KNN precision score is:', metrics.precision_score(y_test, Y_predTest, average='macro'))\n",
    "precision = 3663 / (3663 + 6)\n",
    "print('Manually calculated KNN precision is: ', precision, '\\n')\n",
    "\n",
    "print('KNN F1-score is: ', metrics.f1_score(y_test, Y_predTest, average='macro'))\n",
    "f1_score = (2*precision*recall) / (precision + recall)\n",
    "print('Manually calculated KNN f1-score is: ', f1_score, '\\n')"
   ]
  },
  {
   "cell_type": "markdown",
   "id": "lbFT0fEC-gBe",
   "metadata": {
    "id": "lbFT0fEC-gBe"
   },
   "source": [
    "Now train a Multinomial Naive Bayes classifier on the training data and evaluates its performance on both the training and test data using accuracy scores. \n"
   ]
  },
  {
   "cell_type": "code",
   "execution_count": 38,
   "id": "XB93l7E1XfCJ",
   "metadata": {
    "id": "XB93l7E1XfCJ"
   },
   "outputs": [],
   "source": [
    "from sklearn.naive_bayes import MultinomialNB\n",
    "import matplotlib.pyplot as plt\n",
    "from sklearn.metrics import accuracy_score\n",
    "%matplotlib inline\n"
   ]
  },
  {
   "cell_type": "markdown",
   "id": "AGFlhAtO-1dk",
   "metadata": {
    "id": "AGFlhAtO-1dk"
   },
   "source": [
    "The accuracy scores are plotted against the number of neighbors used for classification."
   ]
  },
  {
   "cell_type": "code",
   "execution_count": 39,
   "id": "359btEqrgXfk",
   "metadata": {
    "colab": {
     "base_uri": "https://localhost:8080/"
    },
    "id": "359btEqrgXfk",
    "outputId": "5a83c4ab-9b7c-4da6-b9ce-ab02d158e56a"
   },
   "outputs": [
    {
     "name": "stdout",
     "output_type": "stream",
     "text": [
      "              precision    recall  f1-score   support\n",
      "\n",
      "    Critical       1.00      1.00      1.00      3671\n",
      "Not Critical       1.00      1.00      1.00      2769\n",
      "\n",
      "    accuracy                           1.00      6440\n",
      "   macro avg       1.00      1.00      1.00      6440\n",
      "weighted avg       1.00      1.00      1.00      6440\n",
      "\n"
     ]
    }
   ],
   "source": [
    "from sklearn.metrics import classification_report\n",
    "\n",
    "print(classification_report(y_test,Y_predTest ))"
   ]
  },
  {
   "cell_type": "code",
   "execution_count": 40,
   "id": "BQ8JLsl6gyXi",
   "metadata": {
    "colab": {
     "base_uri": "https://localhost:8080/"
    },
    "id": "BQ8JLsl6gyXi",
    "outputId": "dd605288-3c80-49e3-a5b0-2ac70ddf2495"
   },
   "outputs": [
    {
     "data": {
      "text/plain": [
       "0.9978260869565218"
      ]
     },
     "execution_count": 40,
     "metadata": {},
     "output_type": "execute_result"
    }
   ],
   "source": [
    "accurac=(accuracy_score(y_test, Y_predTest))\n",
    "accurac"
   ]
  },
  {
   "cell_type": "code",
   "execution_count": 41,
   "id": "Dz_4ryxwk0_9",
   "metadata": {
    "colab": {
     "base_uri": "https://localhost:8080/",
     "height": 466
    },
    "id": "Dz_4ryxwk0_9",
    "outputId": "3b1ab444-c2a4-44fe-df2f-16d4a7dbc8c1"
   },
   "outputs": [
    {
     "data": {
      "text/plain": [
       "<sklearn.metrics._plot.confusion_matrix.ConfusionMatrixDisplay at 0x27625ad4b50>"
      ]
     },
     "execution_count": 41,
     "metadata": {},
     "output_type": "execute_result"
    },
    {
     "data": {
      "image/png": "[encoded data removed]",
      "text/plain": [
       "<Figure size 432x288 with 2 Axes>"
      ]
     },
     "metadata": {
      "needs_background": "light"
     },
     "output_type": "display_data"
    }
   ],
   "source": [
    "cm = metrics.confusion_matrix(y_test, Y_predTest)\n",
    "disp = metrics.ConfusionMatrixDisplay(confusion_matrix=cm,display_labels=clf.classes_)\n",
    "disp.plot()"
   ]
  },
  {
   "cell_type": "code",
   "execution_count": 42,
   "id": "584eb9bc",
   "metadata": {
    "colab": {
     "base_uri": "https://localhost:8080/"
    },
    "id": "584eb9bc",
    "outputId": "b3f2f41d-98f2-4e57-c177-124183276cbe"
   },
   "outputs": [
    {
     "name": "stdout",
     "output_type": "stream",
     "text": [
      "MultinomialNB recall score is: 0.9978269550247865\n",
      "Manually calculated MultinomialNB recall is:  0.9989094874591058 \n",
      "\n",
      "MultinomialNB precision score is: 0.9977388163177023\n",
      "Manually calculated MultinomialNB precision is:  0.9980931626259875 \n",
      "\n",
      "MultinomialNB F1-score is:  0.9977827836197484\n",
      "Manually calculated MultinomialNB f1-score is:  0.9985011581959395 \n",
      "\n"
     ]
    }
   ],
   "source": [
    "print('MultinomialNB recall score is:', metrics.recall_score(y_test, Y_predTest, average='macro'))\n",
    "recall = 3664 / (3664+4)\n",
    "print('Manually calculated MultinomialNB recall is: ', recall, '\\n')\n",
    "\n",
    "print('MultinomialNB precision score is:', metrics.precision_score(y_test, Y_predTest, average='macro'))\n",
    "precision = 3664 / (3664 + 7)\n",
    "print('Manually calculated MultinomialNB precision is: ', precision, '\\n')\n",
    "\n",
    "print('MultinomialNB F1-score is: ', metrics.f1_score(y_test, Y_predTest, average='macro'))\n",
    "f1_score = (2*precision*recall) / (precision + recall)\n",
    "print('Manually calculated MultinomialNB f1-score is: ', f1_score, '\\n')"
   ]
  },
  {
   "cell_type": "code",
   "execution_count": null,
   "id": "9PSIys9Oldfe",
   "metadata": {
    "id": "9PSIys9Oldfe"
   },
   "outputs": [],
   "source": []
  },
  {
   "cell_type": "code",
   "execution_count": 49,
   "id": "d4b2205b",
   "metadata": {},
   "outputs": [],
   "source": [
    "x='''Hot food item not held at or above 140º F.'''"
   ]
  },
  {
   "cell_type": "code",
   "execution_count": 50,
   "id": "11b4eaec",
   "metadata": {},
   "outputs": [],
   "source": [
    "## Removing the punctuations if an missed by above process\n",
    "def remove_punc(string):\n",
    "    punc = '''!()-[]{};:'\"\\,<>./?@#$%^&*_~º'''\n",
    "    for i in string:\n",
    "        if i in punc:\n",
    "            string = string.replace(i,\"\")\n",
    "    return string\n",
    "x = (remove_punc(x)) "
   ]
  },
  {
   "cell_type": "code",
   "execution_count": 51,
   "id": "96cf01c0",
   "metadata": {},
   "outputs": [
    {
     "data": {
      "text/plain": [
       "'Hot food item not held at or above 140 F'"
      ]
     },
     "execution_count": 51,
     "metadata": {},
     "output_type": "execute_result"
    }
   ],
   "source": [
    "x"
   ]
  },
  {
   "cell_type": "code",
   "execution_count": 56,
   "id": "32152e8c",
   "metadata": {},
   "outputs": [],
   "source": [
    "X_test1 = tfidf_vectorizer.transform([x])"
   ]
  },
  {
   "cell_type": "code",
   "execution_count": 57,
   "id": "eb16e6cd",
   "metadata": {},
   "outputs": [],
   "source": [
    "Y_predTest1 = clf.predict(X_test1)  # Make predictions on the test set\n"
   ]
  },
  {
   "cell_type": "code",
   "execution_count": 58,
   "id": "c2fde98b",
   "metadata": {},
   "outputs": [
    {
     "data": {
      "text/plain": [
       "array(['Critical'], dtype=object)"
      ]
     },
     "execution_count": 58,
     "metadata": {},
     "output_type": "execute_result"
    }
   ],
   "source": [
    "Y_predTest1"
   ]
  },
  {
   "cell_type": "code",
   "execution_count": null,
   "id": "a20b8ee6",
   "metadata": {},
   "outputs": [],
   "source": []
  }
 ],
 "metadata": {
  "colab": {
   "provenance": []
  },
  "kernelspec": {
   "display_name": "Python 3 (ipykernel)",
   "language": "python",
   "name": "python3"
  },
  "language_info": {
   "codemirror_mode": {
    "name": "ipython",
    "version": 3
   },
   "file_extension": ".py",
   "mimetype": "text/x-python",
   "name": "python",
   "nbconvert_exporter": "python",
   "pygments_lexer": "ipython3",
   "version": "3.9.12"
  }
 },
 "nbformat": 4,
 "nbformat_minor": 5
}
